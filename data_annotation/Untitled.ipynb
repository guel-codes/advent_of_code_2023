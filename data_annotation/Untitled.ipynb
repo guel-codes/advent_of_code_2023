{
 "cells": [
  {
   "cell_type": "code",
   "execution_count": 84,
   "id": "bc569f94-efd5-4d76-b79a-4fbf50be519c",
   "metadata": {},
   "outputs": [],
   "source": [
    "input_file = \"coding_qual_input.txt\"\n",
    "# input_file = \"input.txt\""
   ]
  },
  {
   "cell_type": "code",
   "execution_count": 105,
   "id": "a99ae9a9-49d5-455d-a1af-9426196e9ed5",
   "metadata": {},
   "outputs": [],
   "source": [
    "def decoder(input_file_path):\n",
    "    # this portion turns the input file into a dictionary\n",
    "    with open(input_file_path, 'r') as file:\n",
    "        decoder_dict = {}\n",
    "        for line in file:\n",
    "            row = line.strip().split(' ')\n",
    "            key = int(row[0])\n",
    "            value = row[1]\n",
    "            decoder_dict[key] = value\n",
    "\n",
    "    # find the maximum key in the dictionary\n",
    "    max_key = max(decoder_dict.keys())\n",
    "\n",
    "    # determine the number of rows based on the maximum key\n",
    "    num_rows = 0\n",
    "    while num_rows * (num_rows + 1) // 2 <= max_key:\n",
    "        num_rows += 1\n",
    "\n",
    "    last_numbers = []\n",
    "\n",
    "    # iterate through each row and append the last number to the list\n",
    "    for i in range(1, num_rows + 1):\n",
    "        last_number = int((i * (i + 1))/ 2)\n",
    "        print(last_number)\n",
    "        last_numbers.append(last_number)\n",
    "\n",
    "    return \" \".join([decoder_dict.get(num, '') for num in last_numbers])\n"
   ]
  },
  {
   "cell_type": "code",
   "execution_count": 106,
   "id": "f435ea13-99b7-41c6-9c69-2bcc993926b1",
   "metadata": {},
   "outputs": [
    {
     "name": "stdout",
     "output_type": "stream",
     "text": [
      "1\n",
      "3\n",
      "6\n",
      "10\n",
      "15\n",
      "21\n",
      "28\n",
      "36\n",
      "45\n",
      "55\n",
      "66\n",
      "78\n",
      "91\n",
      "105\n",
      "120\n",
      "136\n",
      "153\n",
      "171\n",
      "190\n",
      "210\n",
      "231\n",
      "253\n",
      "276\n",
      "300\n",
      "325\n"
     ]
    },
    {
     "data": {
      "text/plain": [
       "'opposite sun rain think ocean to winter wild it ready buy card possible would electric stay post paragraph produce state our compare touch possible '"
      ]
     },
     "execution_count": 106,
     "metadata": {},
     "output_type": "execute_result"
    }
   ],
   "source": [
    "decoder(input_file)"
   ]
  }
 ],
 "metadata": {
  "kernelspec": {
   "display_name": "Python 3 (ipykernel)",
   "language": "python",
   "name": "python3"
  },
  "language_info": {
   "codemirror_mode": {
    "name": "ipython",
    "version": 3
   },
   "file_extension": ".py",
   "mimetype": "text/x-python",
   "name": "python",
   "nbconvert_exporter": "python",
   "pygments_lexer": "ipython3",
   "version": "3.9.7"
  }
 },
 "nbformat": 4,
 "nbformat_minor": 5
}
