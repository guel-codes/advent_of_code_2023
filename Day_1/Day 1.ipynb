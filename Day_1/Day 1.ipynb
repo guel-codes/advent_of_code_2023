{
 "cells": [
  {
   "cell_type": "markdown",
   "id": "c5a41e2e",
   "metadata": {},
   "source": [
    "# Advent of Code 2023 "
   ]
  },
  {
   "cell_type": "markdown",
   "id": "3b8011b2",
   "metadata": {},
   "source": [
    "### Day 1\n",
    "- \"1abc2\" - 12\n",
    "- \"pqr3stu8vwx\" - 38\n",
    "- \"a1b2c3d4e5f\" - 15\n",
    "- \"treb7uchet\" - 77\n",
    "\n",
    "- first and last digit combined if there is only one then it can be duplicated"
   ]
  },
  {
   "cell_type": "code",
   "execution_count": 7,
   "id": "df7b8a82",
   "metadata": {},
   "outputs": [],
   "source": [
    "test_input = [\"1abc2\",\"pqr3stu8vwx\",\"a1b2c3d4e5f\",\"treb7uchet\"]"
   ]
  },
  {
   "cell_type": "code",
   "execution_count": 5,
   "id": "e11facb8",
   "metadata": {},
   "outputs": [],
   "source": [
    "with open('day_1_input.txt', 'r') as file:\n",
    "    input_list = []\n",
    "    for line in file:\n",
    "        input_list.append(line.strip())"
   ]
  },
  {
   "cell_type": "code",
   "execution_count": 29,
   "id": "f93275a6",
   "metadata": {
    "scrolled": true
   },
   "outputs": [],
   "source": [
    "def grab_calibration(calibration_string):\n",
    "    split_string = list(calibration_string)\n",
    "    number_list = []\n",
    "    calibration_numbers = []\n",
    "    first_num = _\n",
    "    last_num = _\n",
    "    for char in split_string:\n",
    "        if char.isnumeric():\n",
    "            number_list.append(char)\n",
    "    \n",
    "    first_num = number_list[0]\n",
    "    last_num = number_list[-1]\n",
    "    final_num = int(\"\".join(first_num+last_num))\n",
    "    \n",
    "    calibration_numbers.append(final_num)\n",
    "    \n",
    "    total = sum(calibration_numbers)\n",
    "    \n",
    "    return final_num"
   ]
  },
  {
   "cell_type": "code",
   "execution_count": 39,
   "id": "2c66a58e",
   "metadata": {},
   "outputs": [
    {
     "data": {
      "text/plain": [
       "55607"
      ]
     },
     "execution_count": 39,
     "metadata": {},
     "output_type": "execute_result"
    }
   ],
   "source": [
    "sum([grab_calibration(x) for x in input_list])"
   ]
  }
 ],
 "metadata": {
  "kernelspec": {
   "display_name": "Python 3 (ipykernel)",
   "language": "python",
   "name": "python3"
  },
  "language_info": {
   "codemirror_mode": {
    "name": "ipython",
    "version": 3
   },
   "file_extension": ".py",
   "mimetype": "text/x-python",
   "name": "python",
   "nbconvert_exporter": "python",
   "pygments_lexer": "ipython3",
   "version": "3.9.7"
  }
 },
 "nbformat": 4,
 "nbformat_minor": 5
}
