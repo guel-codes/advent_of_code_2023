{
 "cells": [
  {
   "cell_type": "markdown",
   "id": "c5a41e2e",
   "metadata": {},
   "source": [
    "# Advent of Code 2023 "
   ]
  },
  {
   "cell_type": "markdown",
   "id": "3b8011b2",
   "metadata": {},
   "source": [
    "### Day 2.1\n",
    "\n",
    "\n",
    "- Game 1: 3 blue, 4 red; 1 red, 2 green, 6 blue; 2 green\n",
    "- Game 2: 1 blue, 2 green; 3 green, 4 blue, 1 red; 1 green, 1 blue\n",
    "- Game 3: 8 green, 6 blue, 20 red; 5 blue, 4 red, 13 green; 5 green, 1 red\n",
    "- Game 4: 1 green, 3 red, 6 blue; 3 green, 6 red; 3 green, 15 blue, 14 red\n",
    "- Game 5: 6 red, 1 blue, 3 green; 2 blue, 1 red, 2 green\n",
    "\n",
    "\n",
    "only 12 red cubes, 13 green cubes, and 14 blue cubes, which ones are possible\n",
    "\n",
    "1,2,5 = 8(sum of game ids that are possible)"
   ]
  },
  {
   "cell_type": "code",
   "execution_count": 29,
   "id": "e7b75657",
   "metadata": {},
   "outputs": [
    {
     "name": "stdout",
     "output_type": "stream",
     "text": [
      "Game 1\n",
      "Game 2\n",
      "Game 4\n",
      "Game 5\n",
      "Game 12\n",
      "Game 14\n",
      "Game 18\n",
      "Game 19\n",
      "Game 21\n",
      "Game 31\n",
      "Game 32\n",
      "Game 35\n",
      "Game 40\n",
      "Game 41\n",
      "Game 42\n",
      "Game 43\n",
      "Game 45\n",
      "Game 49\n",
      "Game 51\n",
      "Game 54\n",
      "Game 56\n",
      "Game 57\n",
      "Game 58\n",
      "Game 63\n",
      "Game 65\n",
      "Game 67\n",
      "Game 68\n",
      "Game 71\n",
      "Game 72\n",
      "Game 73\n",
      "Game 78\n",
      "Game 79\n",
      "Game 80\n",
      "Game 82\n",
      "Game 83\n",
      "Game 85\n",
      "Game 86\n",
      "Game 90\n",
      "Game 91\n",
      "Game 92\n",
      "Game 94\n",
      "total is 2149\n"
     ]
    }
   ],
   "source": [
    "# day 2-1 refactor\n",
    "\n",
    "with open('day_2_1.txt') as file:\n",
    "    total = 0\n",
    "    acceptable = {\n",
    "        \"red\": 12,\n",
    "        \"green\": 13,\n",
    "        \"blue\": 14\n",
    "    }\n",
    "\n",
    "    for line in file:\n",
    "        game_id, events = line.strip().split(\":\")\n",
    "        cube_pass = all(int(quantity) <= acceptable[color] \n",
    "                        for event in events.split(\";\") \n",
    "                        for quantity, color in (cubes.split() for cubes in event.split(\",\")))\n",
    "\n",
    "        if cube_pass:\n",
    "            print(game_id)\n",
    "            total += int(game_id.split()[-1])\n",
    "        else:\n",
    "            pass\n",
    "\n",
    "    print(f\"total is {total}\")"
   ]
  },
  {
   "cell_type": "markdown",
   "id": "b9c49e49",
   "metadata": {},
   "source": [
    "### Day 2.2\n",
    "\n",
    "I have no idea lol\n"
   ]
  },
  {
   "cell_type": "code",
   "execution_count": 45,
   "id": "02dd6041",
   "metadata": {
    "scrolled": true
   },
   "outputs": [
    {
     "data": {
      "text/plain": [
       "[3,\n",
       " 4,\n",
       " 1,\n",
       " 2,\n",
       " 6,\n",
       " 2,\n",
       " 1,\n",
       " 2,\n",
       " 3,\n",
       " 4,\n",
       " 1,\n",
       " 1,\n",
       " 1,\n",
       " 8,\n",
       " 6,\n",
       " 5,\n",
       " 4,\n",
       " 5,\n",
       " 1,\n",
       " 1,\n",
       " 3,\n",
       " 6,\n",
       " 3,\n",
       " 6,\n",
       " 3,\n",
       " 6,\n",
       " 1,\n",
       " 3,\n",
       " 2,\n",
       " 1,\n",
       " 2]"
      ]
     },
     "metadata": {},
     "output_type": "display_data"
    },
    {
     "name": "stdout",
     "output_type": "stream",
     "text": [
      "total is 2286\n"
     ]
    }
   ],
   "source": [
    "from collections import defaultdict\n",
    "\n",
    "file = open('test_input_2.txt').read().strip()\n",
    "total = 0\n",
    "acceptable = {\n",
    "    \"red\":12,\n",
    "    \"green\":13,\n",
    "    \"blue\":14\n",
    "}\n",
    "\n",
    "over_list=[]\n",
    "\n",
    "\n",
    "for line in file.split('\\n'):\n",
    "    cube_pass=True\n",
    "    game_id, line = line.split(\":\")\n",
    "    \n",
    "    # need to use default dict to initialize new values as zero\n",
    "    cube_dict = defaultdict(int)\n",
    "    for event in line.strip().split(\";\"):\n",
    "        for cubes in event.split(\",\"):\n",
    "            quantity,color = cubes.split()\n",
    "            quantity = int(quantity)\n",
    "            cube_dict[color] = max(cube_dict[color], quantity)\n",
    "            if int(quantity) < acceptable[color]:\n",
    "                cube_pass = False\n",
    "                over_list.append(quantity)\n",
    "    score = 1\n",
    "    for value in cube_dict.values():\n",
    "        score *= value\n",
    "    total += score\n",
    "    if cube_pass:\n",
    "        pass\n",
    "\n",
    "display(over_list)\n",
    "print(f\"total is {total}\")"
   ]
  },
  {
   "cell_type": "code",
   "execution_count": 50,
   "id": "d4f47dc1",
   "metadata": {},
   "outputs": [
    {
     "name": "stdout",
     "output_type": "stream",
     "text": [
      "\n"
     ]
    }
   ],
   "source": [
    "from collections import defaultdict\n",
    "\n",
    "file = open('day_2_2.txt').read().strip()\n",
    "total = 0\n",
    "\n",
    "\n",
    "for line in file.split('\\n'):\n",
    "    cube_pass=True\n",
    "    print(line)\n",
    "#     game_id, line = line.split(\":\")\n",
    "    \n",
    "#     # need to use default dict to initialize new values as zero\n",
    "#     cube_dict = defaultdict(int)\n",
    "#     for event in line.strip().split(\";\"):\n",
    "#         for cubes in event.split(\",\"):\n",
    "#             quantity,color = cubes.split()\n",
    "#             quantity = int(quantity)\n",
    "#             cube_dict[color] = max(cube_dict[color], quantity)\n",
    "#             if int(quantity) < acceptable[color]:\n",
    "#                 cube_pass = False\n",
    "#                 over_list.append(quantity)\n",
    "#     score = 1\n",
    "#     for value in cube_dict.values():\n",
    "#         score *= value\n",
    "#     total += score\n",
    "#     if cube_pass:\n",
    "#         pass\n",
    "\n",
    "# display(over_list)\n",
    "# print(f\"total is {total}\")"
   ]
  }
 ],
 "metadata": {
  "kernelspec": {
   "display_name": "Python 3 (ipykernel)",
   "language": "python",
   "name": "python3"
  },
  "language_info": {
   "codemirror_mode": {
    "name": "ipython",
    "version": 3
   },
   "file_extension": ".py",
   "mimetype": "text/x-python",
   "name": "python",
   "nbconvert_exporter": "python",
   "pygments_lexer": "ipython3",
   "version": "3.9.7"
  }
 },
 "nbformat": 4,
 "nbformat_minor": 5
}
