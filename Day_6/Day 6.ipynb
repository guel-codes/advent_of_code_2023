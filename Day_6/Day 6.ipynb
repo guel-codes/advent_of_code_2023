{
 "cells": [
  {
   "cell_type": "markdown",
   "id": "c5a41e2e",
   "metadata": {},
   "source": [
    "# Advent of Code 2023 - Day 6"
   ]
  },
  {
   "cell_type": "code",
   "execution_count": 17,
   "id": "97fb5fcd",
   "metadata": {
    "scrolled": true
   },
   "outputs": [
    {
     "data": {
      "text/plain": [
       "['7', '15', '30']"
      ]
     },
     "metadata": {},
     "output_type": "display_data"
    },
    {
     "data": {
      "text/plain": [
       "['9', '40', '200']"
      ]
     },
     "metadata": {},
     "output_type": "display_data"
    },
    {
     "data": {
      "text/plain": [
       "{'7': '9', '15': '40', '30': '200'}"
      ]
     },
     "execution_count": 17,
     "metadata": {},
     "output_type": "execute_result"
    }
   ],
   "source": [
    "time_dist_rec_dict = {}\n",
    "\n",
    "lines = open('test_input.txt').read().strip().split('\\n')\n",
    "\n",
    "time = lines[0].split(':')\n",
    "distance = lines[1].split(':') \n",
    "\n",
    "times = time[1].strip().split()\n",
    "distances = distance[1].strip().split()\n",
    "\n",
    "display(times)\n",
    "display(distances)\n",
    "\n",
    "for idx in range(len(times)):\n",
    "    time_dist_rec_dict[times[idx]] =  distances[idx]\n",
    "\n",
    "    "
   ]
  }
 ],
 "metadata": {
  "kernelspec": {
   "display_name": "Python 3 (ipykernel)",
   "language": "python",
   "name": "python3"
  },
  "language_info": {
   "codemirror_mode": {
    "name": "ipython",
    "version": 3
   },
   "file_extension": ".py",
   "mimetype": "text/x-python",
   "name": "python",
   "nbconvert_exporter": "python",
   "pygments_lexer": "ipython3",
   "version": "3.9.7"
  }
 },
 "nbformat": 4,
 "nbformat_minor": 5
}
